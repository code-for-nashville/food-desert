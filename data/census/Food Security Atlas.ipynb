{
 "cells": [
  {
   "cell_type": "code",
   "execution_count": 1,
   "metadata": {
    "code_folding": [
     0
    ],
    "slideshow": {
     "slide_type": "skip"
    }
   },
   "outputs": [
    {
     "name": "stdout",
     "output_type": "stream",
     "text": [
      "last time run: Thu Apr  4 14:36:08 2019\n",
      "Current working dir: /home/bren/Home/projects/Food-Desert/census/data\n"
     ]
    }
   ],
   "source": [
    "# Start\n",
    "import os\n",
    "import time\n",
    "print(\"last time run: {}\".format(time.strftime(\"%c\")))\n",
    "CWD = os.getcwd()\n",
    "print(\"Current working dir: {}\".format(CWD))\n"
   ]
  },
  {
   "cell_type": "code",
   "execution_count": 2,
   "metadata": {
    "code_folding": [
     0
    ],
    "slideshow": {
     "slide_type": "skip"
    }
   },
   "outputs": [
    {
     "data": {
      "text/html": [
       "<style>\n",
       "@import url('http://fonts.googleapis.com/css?family=Source+Code+Pro');\n",
       "@import url('http://fonts.googleapis.com/css?family=Vollkorn');\n",
       "@import url('http://fonts.googleapis.com/css?family=Arimo');\n",
       "@import url('http://fonts.googleapis.com/css?family=Fira_sans');\n",
       "\n",
       "    /* Make the notebook cells take almost all available width */\n",
       "    .container {\n",
       "        width: 99% !important;\n",
       "    }   \n",
       "\n",
       "    /* Prevent the edit cell highlight box from getting clipped;\n",
       "     * important so that it also works when cell is in edit mode*/\n",
       "    div.cell.selected {\n",
       "        border-left-width: 0% !important;\n",
       "    }\n",
       "\n",
       "    div.cell{\n",
       "        width: 99%;\n",
       "        margin-left: 0% !important;\n",
       "        margin-right: auto;\n",
       "    }\n",
       "    div.text_cell code {\n",
       "        background: transparent;\n",
       "        color: #000000;\n",
       "        font-weight: 600;\n",
       "        font-size: 11pt;\n",
       "        font-style: bold;\n",
       "        font-family:  'Source Code Pro', Consolas, monocco, monospace;\n",
       "   }\n",
       "    h1 {\n",
       "        font-family: 'Open sans',verdana,arial,sans-serif;\n",
       "\t}\n",
       "\t\n",
       "    div.input_area {\n",
       "        background: #F6F6F9;\n",
       "        border: 1px solid #586e75;\n",
       "    }\n",
       "\n",
       "    .text_cell_render h1 {\n",
       "        font-weight: 200;\n",
       "        font-size: 30pt;\n",
       "        line-height: 100%;\n",
       "        color:#c76c0c;\n",
       "        margin-bottom: 0.5em;\n",
       "        margin-top: 1em;\n",
       "        display: block;\n",
       "        white-space: wrap;\n",
       "        text-align: left;\n",
       "    } \n",
       "    h2 {\n",
       "        font-family: 'Open sans',verdana,arial,sans-serif;\n",
       "        text-align: left;\n",
       "    }\n",
       "    .text_cell_render h2 {\n",
       "        font-weight: 200;\n",
       "        font-size: 16pt;\n",
       "        font-style: italic;\n",
       "        line-height: 100%;\n",
       "        color:#c76c0c;\n",
       "        margin-bottom: 0.5em;\n",
       "        margin-top: 1.5em;\n",
       "        display: block;\n",
       "        white-space: wrap;\n",
       "        text-align: left;\n",
       "    } \n",
       "    h3 {\n",
       "        font-family: 'Open sans',verdana,arial,sans-serif;\n",
       "    }\n",
       "    .text_cell_render h3 {\n",
       "        font-weight: 200;\n",
       "        font-size: 14pt;\n",
       "        line-height: 100%;\n",
       "        color:#d77c0c;\n",
       "        margin-bottom: 0.5em;\n",
       "        margin-top: 2em;\n",
       "        display: block;\n",
       "        white-space: wrap;\n",
       "        text-align: left;\n",
       "    }\n",
       "    h4 {\n",
       "        font-family: 'Open sans',verdana,arial,sans-serif;\n",
       "    }\n",
       "    .text_cell_render h4 {\n",
       "        font-weight: 100;\n",
       "        font-size: 14pt;\n",
       "        color:#d77c0c;\n",
       "        margin-bottom: 0.5em;\n",
       "        margin-top: 0.5em;\n",
       "        display: block;\n",
       "        white-space: nowrap;\n",
       "    }\n",
       "    h5 {\n",
       "        font-family: 'Open sans',verdana,arial,sans-serif;\n",
       "    }\n",
       "    .text_cell_render h5 {\n",
       "        font-weight: 200;\n",
       "        font-style: normal;\n",
       "        color: #1d3b84;\n",
       "        font-size: 16pt;\n",
       "        margin-bottom: 0em;\n",
       "        margin-top: 0.5em;\n",
       "        display: block;\n",
       "        white-space: nowrap;\n",
       "    }\n",
       "    div.text_cell_render{\n",
       "        font-family: 'Fira sans', verdana,arial,sans-serif;\n",
       "        line-height: 125%;\n",
       "        font-size: 115%;\n",
       "        text-align:justify;\n",
       "        text-justify:inter-word;\n",
       "    }\n",
       "    div.output_subarea.output_text.output_pyout {\n",
       "        overflow-x: auto;\n",
       "        overflow-y: scroll;\n",
       "        max-height: 50000px;\n",
       "    }\n",
       "    div.output_subarea.output_stream.output_stdout.output_text {\n",
       "        overflow-x: auto;\n",
       "        overflow-y: scroll;\n",
       "        max-height: 50000px;\n",
       "    }\n",
       "    div.output_wrapper{\n",
       "        margin-top:0.2em;\n",
       "        margin-bottom:0.2em;\n",
       "}\n",
       "\n",
       "    code{\n",
       "      font-size: 70%;\n",
       "    }\n",
       "    .rendered_html code{\n",
       "    background-color: transparent;\n",
       "    }\n",
       "    ul{\n",
       "        margin: 2em;\n",
       "    }\n",
       "    ul li{\n",
       "        padding-left: 0.5em; \n",
       "        margin-bottom: 0.5em; \n",
       "        margin-top: 0.5em; \n",
       "    }\n",
       "    ul li li{\n",
       "        padding-left: 0.2em; \n",
       "        margin-bottom: 0.2em; \n",
       "        margin-top: 0.2em; \n",
       "    }\n",
       "    ol{\n",
       "        margin: 2em;\n",
       "    }\n",
       "    ol li{\n",
       "        padding-left: 0.5em; \n",
       "        margin-bottom: 0.5em; \n",
       "        margin-top: 0.5em; \n",
       "    }\n",
       "    ul li{\n",
       "        padding-left: 0.5em; \n",
       "        margin-bottom: 0.5em; \n",
       "        margin-top: 0.2em; \n",
       "    }\n",
       "    a:link{\n",
       "       font-weight: bold;\n",
       "       color:#447adb;\n",
       "    }\n",
       "    a:visited{\n",
       "       font-weight: bold;\n",
       "       color: #1d3b84;\n",
       "    }\n",
       "    a:hover{\n",
       "       font-weight: bold;\n",
       "       color: #1d3b84;\n",
       "    }\n",
       "    a:focus{\n",
       "       font-weight: bold;\n",
       "       color:#447adb;\n",
       "    }\n",
       "    a:active{\n",
       "       font-weight: bold;\n",
       "       color:#447adb;\n",
       "    }\n",
       "    .rendered_html :link {\n",
       "       text-decoration: underline; \n",
       "    }\n",
       "    .rendered_html :hover {\n",
       "       text-decoration: none; \n",
       "    }\n",
       "    .rendered_html :visited {\n",
       "      text-decoration: none;\n",
       "    }\n",
       "    .rendered_html :focus {\n",
       "      text-decoration: none;\n",
       "    }\n",
       "    .rendered_html :active {\n",
       "      text-decoration: none;\n",
       "    }\n",
       "    .warning{\n",
       "        color: rgb( 240, 20, 20 )\n",
       "    } \n",
       "    hr {\n",
       "      color: #f3f3f3;\n",
       "      background-color: #f3f3f3;\n",
       "      height: 1px;\n",
       "    }\n",
       "    blockquote{\n",
       "      display:block;\n",
       "      background: #fcfcfc;\n",
       "      border-left: 5px solid #c76c0c;\n",
       "      font-family: 'Open sans',verdana,arial,sans-serif;\n",
       "      width:680px;\n",
       "      padding: 10px 10px 10px 10px;\n",
       "      text-align:justify;\n",
       "      text-justify:inter-word;\n",
       "      }\n",
       "      blockquote p {\n",
       "        margin-bottom: 0;\n",
       "        line-height: 125%;\n",
       "        font-size: 100%;\n",
       "      }\n",
       "</style>\n",
       "<script>\n",
       "    MathJax.Hub.Config({\n",
       "                        TeX: {\n",
       "                           extensions: [\"AMSmath.js\"]\n",
       "                           },\n",
       "                tex2jax: {\n",
       "                    inlineMath: [ ['$','$'], [\"\\\\(\",\"\\\\)\"] ],\n",
       "                    displayMath: [ ['$$','$$'], [\"\\\\[\",\"\\\\]\"] ]\n",
       "                },\n",
       "                displayAlign: 'center', // Change this to 'center' to center equations.\n",
       "                \"HTML-CSS\": {\n",
       "                    scale:100,\n",
       "                        availableFonts: [],\n",
       "                        preferredFont:null,\n",
       "                        webFont: \"TeX\",\n",
       "                    styles: {'.MathJax_Display': {\"margin\": 4}}\n",
       "                }\n",
       "        });\n",
       "</script>\n"
      ],
      "text/plain": [
       "<IPython.core.display.HTML object>"
      ]
     },
     "execution_count": 2,
     "metadata": {},
     "output_type": "execute_result"
    }
   ],
   "source": [
    "# Style\n",
    "from IPython.core.display  import HTML\n",
    "from IPython.core.debugger import set_trace\n",
    "\n",
    "def css_styling():\n",
    "    styles = open(\"/home/bren/Home/python/Jupyter/Jupyter Notebooks/custom.css\", \"r\").read()\n",
    "    return HTML(styles)\n",
    "css_styling()\n"
   ]
  },
  {
   "cell_type": "code",
   "execution_count": 3,
   "metadata": {
    "code_folding": [
     0
    ],
    "slideshow": {
     "slide_type": "skip"
    }
   },
   "outputs": [
    {
     "name": "stdout",
     "output_type": "stream",
     "text": [
      "toc_path in sys.path already\n"
     ]
    }
   ],
   "source": [
    "# setup TOC\n",
    "import sys\n",
    "toc_path = '/home/bren/miniconda3/lib/python3.7/site-packages/IPythonTOC-1.2.0-py3.7.egg'\n",
    "if toc_path not in sys.path:\n",
    "    sys.path.append(toc_path)\n",
    "else:\n",
    "    print('toc_path in sys.path already')\n",
    "\n",
    "from IPythonTOC import IPythonTOC\n",
    "toc = IPythonTOC()"
   ]
  },
  {
   "cell_type": "code",
   "execution_count": 4,
   "metadata": {
    "code_folding": [
     0
    ],
    "slideshow": {
     "slide_type": "skip"
    }
   },
   "outputs": [
    {
     "name": "stdout",
     "output_type": "stream",
     "text": [
      "Python  3.7.3\n",
      "CPython 3.7.3\n",
      "IPython 7.1.1\n",
      "\n",
      "IPython 7.1.1\n",
      "matplotlib 3.0.2\n",
      "numpy 1.16.1\n",
      "pandas 0.23.4\n",
      "seaborn 0.9.0\n",
      "\n",
      "compiler   : GCC 7.3.0\n",
      "system     : Linux\n",
      "release    : 4.9.0-8-amd64\n",
      "machine    : x86_64\n",
      "processor  : \n",
      "CPU cores  : 8\n",
      "interpreter: 64bit\n"
     ]
    }
   ],
   "source": [
    "# imports\n",
    "from matplotlib import pyplot as plt, rcParams\n",
    "import numpy as np\n",
    "import pandas as pd\n",
    "import seaborn as sns\n",
    "\n",
    "%matplotlib inline\n",
    "plt.style.use(\"ggplot\")\n",
    "rcParams[\"figure.figsize\"] = (14, 7)\n",
    "\n",
    "import IPython, platform\n",
    "%reload_ext watermark\n",
    "print(\"Python  {}\".format(platform.python_version()))\n",
    "%watermark -v -m -p IPython,matplotlib,numpy,pandas,seaborn\n"
   ]
  },
  {
   "cell_type": "markdown",
   "metadata": {
    "slideshow": {
     "slide_type": "slide"
    }
   },
   "source": [
    "<a id='Table_of_Contents'></a> \n",
    "### Table of Contents\n",
    "\n",
    "[Load Data](#Load_Data)\n",
    "\n",
    "[Explore Data](#Explore_Data)\n",
    "\n",
    "* [Non-Zero Categoricals](#Non_Zero_Categoricals)\n",
    "* [Non-Zero Numeric Variables](#Non_Zero_Numeric_Variables)\n",
    "* [Zero-Valued Numeric Variables](#Zero_Valued_Numeric_Variables)\n",
    "* [Scaled Numeric Variables](#Scaled_Numeric_Variables)\n",
    "* [Correlations In Numeric Variables](#Correlations_In_Numeric_Variables)\n",
    "* [Violin Plot of Numeric Variables](#Violin_Plot_of_Numeric_Variables)\n"
   ]
  },
  {
   "cell_type": "markdown",
   "metadata": {
    "slideshow": {
     "slide_type": "slide"
    }
   },
   "source": [
    "## Load Data\n",
    "<a id='Load_Data'></a>\n",
    "\n",
    "\n",
    "[Table of Contents](#Table_of_Contents)"
   ]
  },
  {
   "cell_type": "code",
   "execution_count": 5,
   "metadata": {
    "code_folding": [],
    "slideshow": {
     "slide_type": "skip"
    }
   },
   "outputs": [],
   "source": [
    "# load data\n",
    "if os.path.isfile('Food_Access_Research_Atlas_Data_TN.csv'):\n",
    "    fara_tn_df = pd.read_csv('Food_Access_Research_Atlas_Data_TN.csv')\n",
    "else:\n",
    "    fara_df = pd.read_csv('Food_Access_Research_Atlas_Data.csv')\n",
    "    fara_tn_df = fara_df[fara_df.State == 'TN']\n",
    "    fara_tn_df.to_csv('Food_Access_Research_Atlas_Data_TN.csv', index=False)    \n",
    "    try:\n",
    "        del fara_df\n",
    "    except:\n",
    "        pass\n"
   ]
  },
  {
   "cell_type": "code",
   "execution_count": 6,
   "metadata": {
    "code_folding": [
     0
    ],
    "slideshow": {
     "slide_type": "slide"
    }
   },
   "outputs": [
    {
     "name": "stdout",
     "output_type": "stream",
     "text": [
      "loaded Food_Access_Research_Atlas_Data_TN\n",
      "1,497 rows for Tennessee\n",
      "First 5 rows\n"
     ]
    },
    {
     "data": {
      "text/html": [
       "<div>\n",
       "<style scoped>\n",
       "    .dataframe tbody tr th:only-of-type {\n",
       "        vertical-align: middle;\n",
       "    }\n",
       "\n",
       "    .dataframe tbody tr th {\n",
       "        vertical-align: top;\n",
       "    }\n",
       "\n",
       "    .dataframe thead th {\n",
       "        text-align: right;\n",
       "    }\n",
       "</style>\n",
       "<table border=\"1\" class=\"dataframe\">\n",
       "  <thead>\n",
       "    <tr style=\"text-align: right;\">\n",
       "      <th></th>\n",
       "      <th>CensusTract</th>\n",
       "      <th>State</th>\n",
       "      <th>County</th>\n",
       "      <th>LILATracts_1And10</th>\n",
       "      <th>LILATracts_halfAnd10</th>\n",
       "      <th>LILATracts_1And20</th>\n",
       "      <th>LILATracts_Vehicle</th>\n",
       "      <th>Urban</th>\n",
       "      <th>Rural</th>\n",
       "      <th>LA1and10</th>\n",
       "      <th>...</th>\n",
       "      <th>lapop20</th>\n",
       "      <th>lapop20share</th>\n",
       "      <th>lalowi20</th>\n",
       "      <th>lalowi20share</th>\n",
       "      <th>lakids20</th>\n",
       "      <th>lakids20share</th>\n",
       "      <th>laseniors20</th>\n",
       "      <th>laseniors20share</th>\n",
       "      <th>lahunv20</th>\n",
       "      <th>lahunv20share</th>\n",
       "    </tr>\n",
       "  </thead>\n",
       "  <tbody>\n",
       "    <tr>\n",
       "      <th>0</th>\n",
       "      <td>47001020100</td>\n",
       "      <td>TN</td>\n",
       "      <td>Anderson</td>\n",
       "      <td>0</td>\n",
       "      <td>1</td>\n",
       "      <td>0</td>\n",
       "      <td>1</td>\n",
       "      <td>1</td>\n",
       "      <td>0</td>\n",
       "      <td>0</td>\n",
       "      <td>...</td>\n",
       "      <td>0.0</td>\n",
       "      <td>0.0</td>\n",
       "      <td>0.0</td>\n",
       "      <td>0.0</td>\n",
       "      <td>0.0</td>\n",
       "      <td>0.0</td>\n",
       "      <td>0.0</td>\n",
       "      <td>0.0</td>\n",
       "      <td>0.0</td>\n",
       "      <td>0.0</td>\n",
       "    </tr>\n",
       "    <tr>\n",
       "      <th>1</th>\n",
       "      <td>47001020201</td>\n",
       "      <td>TN</td>\n",
       "      <td>Anderson</td>\n",
       "      <td>0</td>\n",
       "      <td>0</td>\n",
       "      <td>0</td>\n",
       "      <td>0</td>\n",
       "      <td>1</td>\n",
       "      <td>0</td>\n",
       "      <td>1</td>\n",
       "      <td>...</td>\n",
       "      <td>0.0</td>\n",
       "      <td>0.0</td>\n",
       "      <td>0.0</td>\n",
       "      <td>0.0</td>\n",
       "      <td>0.0</td>\n",
       "      <td>0.0</td>\n",
       "      <td>0.0</td>\n",
       "      <td>0.0</td>\n",
       "      <td>0.0</td>\n",
       "      <td>0.0</td>\n",
       "    </tr>\n",
       "    <tr>\n",
       "      <th>2</th>\n",
       "      <td>47001020202</td>\n",
       "      <td>TN</td>\n",
       "      <td>Anderson</td>\n",
       "      <td>0</td>\n",
       "      <td>0</td>\n",
       "      <td>0</td>\n",
       "      <td>0</td>\n",
       "      <td>1</td>\n",
       "      <td>0</td>\n",
       "      <td>1</td>\n",
       "      <td>...</td>\n",
       "      <td>0.0</td>\n",
       "      <td>0.0</td>\n",
       "      <td>0.0</td>\n",
       "      <td>0.0</td>\n",
       "      <td>0.0</td>\n",
       "      <td>0.0</td>\n",
       "      <td>0.0</td>\n",
       "      <td>0.0</td>\n",
       "      <td>0.0</td>\n",
       "      <td>0.0</td>\n",
       "    </tr>\n",
       "    <tr>\n",
       "      <th>3</th>\n",
       "      <td>47001020300</td>\n",
       "      <td>TN</td>\n",
       "      <td>Anderson</td>\n",
       "      <td>0</td>\n",
       "      <td>0</td>\n",
       "      <td>0</td>\n",
       "      <td>0</td>\n",
       "      <td>1</td>\n",
       "      <td>0</td>\n",
       "      <td>1</td>\n",
       "      <td>...</td>\n",
       "      <td>0.0</td>\n",
       "      <td>0.0</td>\n",
       "      <td>0.0</td>\n",
       "      <td>0.0</td>\n",
       "      <td>0.0</td>\n",
       "      <td>0.0</td>\n",
       "      <td>0.0</td>\n",
       "      <td>0.0</td>\n",
       "      <td>0.0</td>\n",
       "      <td>0.0</td>\n",
       "    </tr>\n",
       "    <tr>\n",
       "      <th>4</th>\n",
       "      <td>47001020400</td>\n",
       "      <td>TN</td>\n",
       "      <td>Anderson</td>\n",
       "      <td>0</td>\n",
       "      <td>0</td>\n",
       "      <td>0</td>\n",
       "      <td>0</td>\n",
       "      <td>1</td>\n",
       "      <td>0</td>\n",
       "      <td>1</td>\n",
       "      <td>...</td>\n",
       "      <td>0.0</td>\n",
       "      <td>0.0</td>\n",
       "      <td>0.0</td>\n",
       "      <td>0.0</td>\n",
       "      <td>0.0</td>\n",
       "      <td>0.0</td>\n",
       "      <td>0.0</td>\n",
       "      <td>0.0</td>\n",
       "      <td>0.0</td>\n",
       "      <td>0.0</td>\n",
       "    </tr>\n",
       "  </tbody>\n",
       "</table>\n",
       "<p>5 rows × 65 columns</p>\n",
       "</div>"
      ],
      "text/plain": [
       "   CensusTract State    County  LILATracts_1And10  LILATracts_halfAnd10  \\\n",
       "0  47001020100    TN  Anderson                  0                     1   \n",
       "1  47001020201    TN  Anderson                  0                     0   \n",
       "2  47001020202    TN  Anderson                  0                     0   \n",
       "3  47001020300    TN  Anderson                  0                     0   \n",
       "4  47001020400    TN  Anderson                  0                     0   \n",
       "\n",
       "   LILATracts_1And20  LILATracts_Vehicle  Urban  Rural  LA1and10  \\\n",
       "0                  0                   1      1      0         0   \n",
       "1                  0                   0      1      0         1   \n",
       "2                  0                   0      1      0         1   \n",
       "3                  0                   0      1      0         1   \n",
       "4                  0                   0      1      0         1   \n",
       "\n",
       "       ...        lapop20  lapop20share  lalowi20  lalowi20share  lakids20  \\\n",
       "0      ...            0.0           0.0       0.0            0.0       0.0   \n",
       "1      ...            0.0           0.0       0.0            0.0       0.0   \n",
       "2      ...            0.0           0.0       0.0            0.0       0.0   \n",
       "3      ...            0.0           0.0       0.0            0.0       0.0   \n",
       "4      ...            0.0           0.0       0.0            0.0       0.0   \n",
       "\n",
       "   lakids20share  laseniors20  laseniors20share  lahunv20  lahunv20share  \n",
       "0            0.0          0.0               0.0       0.0            0.0  \n",
       "1            0.0          0.0               0.0       0.0            0.0  \n",
       "2            0.0          0.0               0.0       0.0            0.0  \n",
       "3            0.0          0.0               0.0       0.0            0.0  \n",
       "4            0.0          0.0               0.0       0.0            0.0  \n",
       "\n",
       "[5 rows x 65 columns]"
      ]
     },
     "execution_count": 6,
     "metadata": {},
     "output_type": "execute_result"
    }
   ],
   "source": [
    "# results of loading file\n",
    "print('loaded Food_Access_Research_Atlas_Data_TN')\n",
    "print('{:,d} rows for Tennessee'.format(len(fara_tn_df)))\n",
    "print('First 5 rows')\n",
    "fara_tn_df.head()\n"
   ]
  },
  {
   "cell_type": "markdown",
   "metadata": {
    "slideshow": {
     "slide_type": "slide"
    }
   },
   "source": [
    "## Explore Data\n",
    "<a id='Explore_Data'></a>\n",
    "\n",
    "\n",
    "[Table of Contents](#Table_of_Contents)"
   ]
  },
  {
   "cell_type": "code",
   "execution_count": 29,
   "metadata": {},
   "outputs": [
    {
     "data": {
      "text/html": [
       "<div>\n",
       "<style scoped>\n",
       "    .dataframe tbody tr th:only-of-type {\n",
       "        vertical-align: middle;\n",
       "    }\n",
       "\n",
       "    .dataframe tbody tr th {\n",
       "        vertical-align: top;\n",
       "    }\n",
       "\n",
       "    .dataframe thead th {\n",
       "        text-align: right;\n",
       "    }\n",
       "</style>\n",
       "<table border=\"1\" class=\"dataframe\">\n",
       "  <thead>\n",
       "    <tr style=\"text-align: right;\">\n",
       "      <th></th>\n",
       "      <th>LongName</th>\n",
       "    </tr>\n",
       "    <tr>\n",
       "      <th>Field</th>\n",
       "      <th></th>\n",
       "    </tr>\n",
       "  </thead>\n",
       "  <tbody>\n",
       "    <tr>\n",
       "      <th>CensusTract</th>\n",
       "      <td>Census tract</td>\n",
       "    </tr>\n",
       "    <tr>\n",
       "      <th>County</th>\n",
       "      <td>County</td>\n",
       "    </tr>\n",
       "    <tr>\n",
       "      <th>GroupQuartersFlag</th>\n",
       "      <td>Group quarters, tract with high share</td>\n",
       "    </tr>\n",
       "    <tr>\n",
       "      <th>HUNVFlag</th>\n",
       "      <td>Vehicle access, tract with low vehicle access</td>\n",
       "    </tr>\n",
       "    <tr>\n",
       "      <th>LA1and10</th>\n",
       "      <td>Low access tract at 1 mile for urban areas or ...</td>\n",
       "    </tr>\n",
       "  </tbody>\n",
       "</table>\n",
       "</div>"
      ],
      "text/plain": [
       "                                                            LongName\n",
       "Field                                                               \n",
       "CensusTract                                             Census tract\n",
       "County                                                        County\n",
       "GroupQuartersFlag              Group quarters, tract with high share\n",
       "HUNVFlag               Vehicle access, tract with low vehicle access\n",
       "LA1and10           Low access tract at 1 mile for urban areas or ..."
      ]
     },
     "execution_count": 29,
     "metadata": {},
     "output_type": "execute_result"
    }
   ],
   "source": [
    "fara_variables = pd.read_csv('Food_Access_Research_Atlas_Data_Variables.csv')\n",
    "fara_variables.set_index('Field', inplace=True)\n",
    "fara_variables.head()"
   ]
  },
  {
   "cell_type": "markdown",
   "metadata": {
    "slideshow": {
     "slide_type": "slide"
    }
   },
   "source": [
    "## Non-Zero Categoricals\n",
    "<a id='Non_Zero_Categoricals'></a>\n",
    "\n",
    "\n",
    "[Table of Contents](#Table_of_Contents)"
   ]
  },
  {
   "cell_type": "code",
   "execution_count": 7,
   "metadata": {
    "slideshow": {
     "slide_type": "skip"
    }
   },
   "outputs": [],
   "source": [
    "# capture numerics and describe them\n",
    "def get_numerics_and_objects(data):\n",
    "    data_objects = set([c for c, v in  data.dtypes.items() if v == np.dtype('O')])\n",
    "    data_numerics = set([c for c, v in  data.dtypes.items() if c not in data_objects])\n",
    "    return data_numerics, data_objects\n"
   ]
  },
  {
   "cell_type": "code",
   "execution_count": 8,
   "metadata": {
    "slideshow": {
     "slide_type": "skip"
    }
   },
   "outputs": [],
   "source": [
    "def print_categorical_uniques(df):\n",
    "    vars_numeric, vars_categorical = get_numerics_and_objects(df)\n",
    "    for k in vars_categorical:\n",
    "        uvals = df[k].unique()\n",
    "        print()\n",
    "        print('{} has these unique values:'.format(k))\n",
    "        for uv in uvals:\n",
    "            print('\\t{}'.format(uv))\n"
   ]
  },
  {
   "cell_type": "code",
   "execution_count": 9,
   "metadata": {
    "code_folding": [
     0
    ],
    "slideshow": {
     "slide_type": "slide"
    }
   },
   "outputs": [
    {
     "name": "stdout",
     "output_type": "stream",
     "text": [
      "\n",
      "County has these unique values:\n",
      "\tAnderson\n",
      "\tBedford\n",
      "\tBenton\n",
      "\tBledsoe\n",
      "\tBlount\n",
      "\tBradley\n",
      "\tCampbell\n",
      "\tCannon\n",
      "\tCarroll\n",
      "\tCarter\n",
      "\tCheatham\n",
      "\tChester\n",
      "\tClaiborne\n",
      "\tClay\n",
      "\tCocke\n",
      "\tCoffee\n",
      "\tCrockett\n",
      "\tCumberland\n",
      "\tDavidson\n",
      "\tDecatur\n",
      "\tDeKalb\n",
      "\tDickson\n",
      "\tDyer\n",
      "\tFayette\n",
      "\tFentress\n",
      "\tFranklin\n",
      "\tGibson\n",
      "\tGiles\n",
      "\tGrainger\n",
      "\tGreene\n",
      "\tGrundy\n",
      "\tHamblen\n",
      "\tHamilton\n",
      "\tHancock\n",
      "\tHardeman\n",
      "\tHardin\n",
      "\tHawkins\n",
      "\tHaywood\n",
      "\tHenderson\n",
      "\tHenry\n",
      "\tHickman\n",
      "\tHouston\n",
      "\tHumphreys\n",
      "\tJackson\n",
      "\tJefferson\n",
      "\tJohnson\n",
      "\tKnox\n",
      "\tLake\n",
      "\tLauderdale\n",
      "\tLawrence\n",
      "\tLewis\n",
      "\tLincoln\n",
      "\tLoudon\n",
      "\tMcMinn\n",
      "\tMcNairy\n",
      "\tMacon\n",
      "\tMadison\n",
      "\tMarion\n",
      "\tMarshall\n",
      "\tMaury\n",
      "\tMeigs\n",
      "\tMonroe\n",
      "\tMontgomery\n",
      "\tMoore\n",
      "\tMorgan\n",
      "\tObion\n",
      "\tOverton\n",
      "\tPerry\n",
      "\tPickett\n",
      "\tPolk\n",
      "\tPutnam\n",
      "\tRhea\n",
      "\tRoane\n",
      "\tRobertson\n",
      "\tRutherford\n",
      "\tScott\n",
      "\tSequatchie\n",
      "\tSevier\n",
      "\tShelby\n",
      "\tSmith\n",
      "\tStewart\n",
      "\tSullivan\n",
      "\tSumner\n",
      "\tTipton\n",
      "\tTrousdale\n",
      "\tUnicoi\n",
      "\tUnion\n",
      "\tVan Buren\n",
      "\tWarren\n",
      "\tWashington\n",
      "\tWayne\n",
      "\tWeakley\n",
      "\tWhite\n",
      "\tWilliamson\n",
      "\tWilson\n",
      "\n",
      "UATYP10 has these unique values:\n",
      "\tU\n",
      "\tR\n",
      "\tC\n",
      "\n",
      "State has these unique values:\n",
      "\tTN\n"
     ]
    }
   ],
   "source": [
    "# printing unique values of categorical variables\n",
    "print_categorical_uniques(fara_tn_df)"
   ]
  },
  {
   "cell_type": "markdown",
   "metadata": {
    "slideshow": {
     "slide_type": "slide"
    }
   },
   "source": [
    "## Non-Zero Numeric Variables\n",
    "<a id='Non_Zero_Numeric_Variables'></a>\n",
    "\n",
    "\n",
    "[Table of Contents](#Table_of_Contents)"
   ]
  },
  {
   "cell_type": "code",
   "execution_count": 10,
   "metadata": {
    "slideshow": {
     "slide_type": "skip"
    }
   },
   "outputs": [],
   "source": [
    "def print_describe(df, stride):\n",
    "    vars_numeric = []\n",
    "    vars_numeric_zero = []\n",
    "\n",
    "    i = df.ftypes\n",
    "    for k in i.keys():\n",
    "        if 'integer' in i[k] or 'float' in i[k]:\n",
    "            if 0 != sum(df[k] != 0):\n",
    "                vars_numeric.append(k)\n",
    "            else:\n",
    "                vars_numeric_zero.append(k)\n",
    "\n",
    "    desc_df = df[vars_numeric]\n",
    "    for start in range(0, len(vars_numeric), stride):\n",
    "        end = start + stride\n",
    "        if end > len(vars_numeric):\n",
    "            end = -1\n",
    "        print(desc_df[vars_numeric[start:end]].describe(), '\\n')\n",
    "    print(len(vars_numeric), len(vars_numeric_zero))\n",
    "    return vars_numeric, vars_numeric_zero\n"
   ]
  },
  {
   "cell_type": "code",
   "execution_count": 36,
   "metadata": {
    "code_folding": [],
    "slideshow": {
     "slide_type": "slide"
    }
   },
   "outputs": [
    {
     "name": "stdout",
     "output_type": "stream",
     "text": [
      "          NUMGQTRS     PCTGQTRS     lapophalf  lapophalfshare\n",
      "count  1489.000000  1489.000000   1497.000000     1497.000000\n",
      "mean    103.070517     0.028088   3588.657508        0.840268\n",
      "std     361.660158     0.104319   1842.693608        0.213020\n",
      "min       0.000000     0.000000      0.000000        0.000000\n",
      "25%       0.000000     0.000000   2320.000009        0.754020\n",
      "50%       0.000000     0.000000   3389.759020        0.927829\n",
      "75%      67.000000     0.015398   4660.999977        1.000000\n",
      "max    4523.000000     1.000000  19249.815950        1.000000 \n",
      "\n",
      "        lalowihalf  lalowihalfshare   lakidshalf  lakidshalfshare\n",
      "count  1497.000000      1497.000000  1497.000000      1497.000000\n",
      "mean   1280.212179         0.313335   852.467144         0.838284\n",
      "std     778.323123         0.169526   525.485366         0.221121\n",
      "min       0.000000         0.000000     0.000000         0.000000\n",
      "25%     700.190736         0.188647   497.000002         0.754959\n",
      "50%    1173.632852         0.306331   774.000001         0.929051\n",
      "75%    1769.552748         0.423026  1105.999996         1.000000\n",
      "max    5301.652008         1.000000  7026.970814         1.000000 \n",
      "\n",
      "       laseniorshalf  laseniorshalfshare   lahunvhalf  lahunvhalfshare\n",
      "count    1497.000000         1497.000000  1497.000000      1497.000000\n",
      "mean      482.389265            0.829082    76.180707         0.051671\n",
      "std       302.851456            0.228072    85.113400         0.067186\n",
      "min         0.000000            0.000000     0.000000         0.000000\n",
      "25%       272.000004            0.743122    24.298347         0.014441\n",
      "50%       455.000001            0.922743    54.509686         0.032189\n",
      "75%       645.498414            1.000000   100.058342         0.061898\n",
      "max      4056.704719            1.000000  1058.377568         0.733333 \n",
      "\n",
      "             lapop1  lapop1share      lalowi1  lalowi1share\n",
      "count   1497.000000  1497.000000  1497.000000   1497.000000\n",
      "mean    2503.130933     0.581973   848.177631      0.204735\n",
      "std     1995.351465     0.377191   757.843269      0.173936\n",
      "min        0.000000     0.000000     0.000000      0.000000\n",
      "25%      756.193056     0.212562   174.742692      0.044974\n",
      "50%     2328.999990     0.663374   703.725648      0.176900\n",
      "75%     3764.517259     0.984540  1334.849640      0.329657\n",
      "max    11564.790580     1.000000  3955.721507      1.000000 \n",
      "\n",
      "           lakids1  lakids1share   laseniors1  laseniors1share\n",
      "count  1497.000000   1497.000000  1497.000000      1497.000000\n",
      "mean    597.377193      0.579497   339.377396         0.568488\n",
      "std     522.572647      0.378668   302.963775         0.380345\n",
      "min       0.000000      0.000000     0.000000         0.000000\n",
      "25%     146.247285      0.204719    83.084771         0.193384\n",
      "50%     528.630189      0.653879   296.000001         0.636733\n",
      "75%     882.410269      0.983294   522.739114         0.982912\n",
      "max    4229.691993      1.000000  3683.841741         1.000000 \n",
      "\n",
      "           lahunv1  lahunv1share      lapop10  lapop10share\n",
      "count  1497.000000   1497.000000  1497.000000   1497.000000\n",
      "mean     41.794606      0.027758    55.610064      0.017853\n",
      "std      57.345704      0.044025   267.434291      0.086594\n",
      "min       0.000000      0.000000     0.000000      0.000000\n",
      "25%       3.368749      0.002058     0.000000      0.000000\n",
      "50%      25.211611      0.015313     0.000000      0.000000\n",
      "75%      61.263275      0.037116     0.000000      0.000000\n",
      "max     724.868954      0.733333  3392.764132      1.000000 \n",
      "\n",
      "          lalowi10  lalowi10share     lakids10  lakids10share\n",
      "count  1497.000000    1497.000000  1497.000000    1497.000000\n",
      "mean     23.894294       0.008177    11.703027       0.017268\n",
      "std     114.370944       0.045122    56.927474       0.084790\n",
      "min       0.000000       0.000000     0.000000       0.000000\n",
      "25%       0.000000       0.000000     0.000000       0.000000\n",
      "50%       0.000000       0.000000     0.000000       0.000000\n",
      "75%       0.000000       0.000000     0.000000       0.000000\n",
      "max    1213.174016       1.000000   831.751177       1.000000 \n",
      "\n",
      "       laseniors10  laseniors10share     lahunv10  lahunv10share\n",
      "count  1497.000000       1497.000000  1497.000000    1497.000000\n",
      "mean      8.742061          0.017036     1.074398       0.000893\n",
      "std      41.533455          0.080037     6.626034       0.005628\n",
      "min       0.000000          0.000000     0.000000       0.000000\n",
      "25%       0.000000          0.000000     0.000000       0.000000\n",
      "50%       0.000000          0.000000     0.000000       0.000000\n",
      "75%       0.000000          0.000000     0.000000       0.000000\n",
      "max     571.393195          0.814655   118.963768       0.112019 \n",
      "\n",
      "32 10\n"
     ]
    }
   ],
   "source": [
    "# list count, mean, std, min, max, and 25% quadrants of numeric variables\n",
    "vars_numeric, vars_numeric_zero = print_describe(fara_tn_df, 4)\n"
   ]
  },
  {
   "cell_type": "markdown",
   "metadata": {
    "slideshow": {
     "slide_type": "slide"
    }
   },
   "source": [
    "## Zero-Valued Numeric Variables\n",
    "<a id='Zero_Valued_Numeric_Variables'></a>\n",
    "\n",
    "\n",
    "[Table of Contents](#Table_of_Contents)"
   ]
  },
  {
   "cell_type": "code",
   "execution_count": 54,
   "metadata": {},
   "outputs": [
    {
     "name": "stdout",
     "output_type": "stream",
     "text": [
      "These variables are not all zeros:\n",
      "\n"
     ]
    },
    {
     "data": {
      "text/html": [
       "<div>\n",
       "<style scoped>\n",
       "    .dataframe tbody tr th:only-of-type {\n",
       "        vertical-align: middle;\n",
       "    }\n",
       "\n",
       "    .dataframe tbody tr th {\n",
       "        vertical-align: top;\n",
       "    }\n",
       "\n",
       "    .dataframe thead th {\n",
       "        text-align: right;\n",
       "    }\n",
       "</style>\n",
       "<table border=\"1\" class=\"dataframe\">\n",
       "  <thead>\n",
       "    <tr style=\"text-align: right;\">\n",
       "      <th></th>\n",
       "      <th>LongName</th>\n",
       "    </tr>\n",
       "    <tr>\n",
       "      <th>Field</th>\n",
       "      <th></th>\n",
       "    </tr>\n",
       "  </thead>\n",
       "  <tbody>\n",
       "    <tr>\n",
       "      <th>NUMGQTRS</th>\n",
       "      <td>Group quarters, tract population residing in, number</td>\n",
       "    </tr>\n",
       "    <tr>\n",
       "      <th>PCTGQTRS</th>\n",
       "      <td>Group quarters, tract population residing in, share</td>\n",
       "    </tr>\n",
       "    <tr>\n",
       "      <th>lapophalf</th>\n",
       "      <td>Low access, people at 1/2 mile, number</td>\n",
       "    </tr>\n",
       "    <tr>\n",
       "      <th>lapophalfshare</th>\n",
       "      <td>Low access, people at 1/2 mile, share</td>\n",
       "    </tr>\n",
       "    <tr>\n",
       "      <th>lalowihalf</th>\n",
       "      <td>Low access, low-income people at 1/2 mile, number</td>\n",
       "    </tr>\n",
       "    <tr>\n",
       "      <th>lalowihalfshare</th>\n",
       "      <td>Low access, low-income people at 1/2 mile, share</td>\n",
       "    </tr>\n",
       "    <tr>\n",
       "      <th>lakidshalf</th>\n",
       "      <td>Low access, children age 0-17 at 1/2 mile, number</td>\n",
       "    </tr>\n",
       "    <tr>\n",
       "      <th>lakidshalfshare</th>\n",
       "      <td>Low access, children age 0-17 at 1/2 mile, share</td>\n",
       "    </tr>\n",
       "    <tr>\n",
       "      <th>laseniorshalf</th>\n",
       "      <td>Low access, seniors age 65+ at 1/2 mile, number</td>\n",
       "    </tr>\n",
       "    <tr>\n",
       "      <th>laseniorshalfshare</th>\n",
       "      <td>Low access, seniors age 65+ at 1/2 mile, share</td>\n",
       "    </tr>\n",
       "    <tr>\n",
       "      <th>lahunvhalf</th>\n",
       "      <td>Vehicle access, housing units without and low access at 1/2 mile, number</td>\n",
       "    </tr>\n",
       "    <tr>\n",
       "      <th>lahunvhalfshare</th>\n",
       "      <td>Vehicle access, housing units without and low access at 1/2 mile, share</td>\n",
       "    </tr>\n",
       "    <tr>\n",
       "      <th>lapop1</th>\n",
       "      <td>Low access, people at 1 mile, number</td>\n",
       "    </tr>\n",
       "    <tr>\n",
       "      <th>lapop1share</th>\n",
       "      <td>Low access, people at 1 mile, share</td>\n",
       "    </tr>\n",
       "    <tr>\n",
       "      <th>lalowi1</th>\n",
       "      <td>Low access, low-income people at 1 mile, number</td>\n",
       "    </tr>\n",
       "    <tr>\n",
       "      <th>lalowi1share</th>\n",
       "      <td>Low access, low-income people at 1 mile, share</td>\n",
       "    </tr>\n",
       "    <tr>\n",
       "      <th>lakids1</th>\n",
       "      <td>Low access, children age 0-17 at 1 mile, number</td>\n",
       "    </tr>\n",
       "    <tr>\n",
       "      <th>lakids1share</th>\n",
       "      <td>Low access, children age 0-17 at 1 mile, share</td>\n",
       "    </tr>\n",
       "    <tr>\n",
       "      <th>laseniors1</th>\n",
       "      <td>Low access, seniors age 65+ at 1 mile, number</td>\n",
       "    </tr>\n",
       "    <tr>\n",
       "      <th>laseniors1share</th>\n",
       "      <td>Low access, seniors age 65+ at 1 mile, share</td>\n",
       "    </tr>\n",
       "    <tr>\n",
       "      <th>lahunv1</th>\n",
       "      <td>Vehicle access, housing units without and low access at 1 mile, number</td>\n",
       "    </tr>\n",
       "    <tr>\n",
       "      <th>lahunv1share</th>\n",
       "      <td>Vehicle access, housing units without and low access at 1 mile, share</td>\n",
       "    </tr>\n",
       "    <tr>\n",
       "      <th>lapop10</th>\n",
       "      <td>Low access, people at 10 miles, number</td>\n",
       "    </tr>\n",
       "    <tr>\n",
       "      <th>lapop10share</th>\n",
       "      <td>Low access, people at 10 miles, share</td>\n",
       "    </tr>\n",
       "    <tr>\n",
       "      <th>lalowi10</th>\n",
       "      <td>Low access, low-income people at 10 miles, number</td>\n",
       "    </tr>\n",
       "    <tr>\n",
       "      <th>lalowi10share</th>\n",
       "      <td>Low access, low-income people at 10 miles, share</td>\n",
       "    </tr>\n",
       "    <tr>\n",
       "      <th>lakids10</th>\n",
       "      <td>Low access, children age 0-17 at 10 miles, number</td>\n",
       "    </tr>\n",
       "    <tr>\n",
       "      <th>lakids10share</th>\n",
       "      <td>Low access, children age 0-17 at 10 miles, share</td>\n",
       "    </tr>\n",
       "    <tr>\n",
       "      <th>laseniors10</th>\n",
       "      <td>Low access, seniors age 65+ at 10 miles, number</td>\n",
       "    </tr>\n",
       "    <tr>\n",
       "      <th>laseniors10share</th>\n",
       "      <td>Low access, seniors age 65+ at 10 miles, share</td>\n",
       "    </tr>\n",
       "    <tr>\n",
       "      <th>lahunv10</th>\n",
       "      <td>Vehicle access, housing units without and low access at 10 miles, number</td>\n",
       "    </tr>\n",
       "    <tr>\n",
       "      <th>lahunv10share</th>\n",
       "      <td>Vehicle access, percentage of housing units without and low access at 10 miles</td>\n",
       "    </tr>\n",
       "  </tbody>\n",
       "</table>\n",
       "</div>"
      ],
      "text/plain": [
       "                                                                                          LongName\n",
       "Field                                                                                             \n",
       "NUMGQTRS                                      Group quarters, tract population residing in, number\n",
       "PCTGQTRS                                       Group quarters, tract population residing in, share\n",
       "lapophalf                                                   Low access, people at 1/2 mile, number\n",
       "lapophalfshare                                               Low access, people at 1/2 mile, share\n",
       "lalowihalf                                       Low access, low-income people at 1/2 mile, number\n",
       "lalowihalfshare                                   Low access, low-income people at 1/2 mile, share\n",
       "lakidshalf                                       Low access, children age 0-17 at 1/2 mile, number\n",
       "lakidshalfshare                                   Low access, children age 0-17 at 1/2 mile, share\n",
       "laseniorshalf                                      Low access, seniors age 65+ at 1/2 mile, number\n",
       "laseniorshalfshare                                  Low access, seniors age 65+ at 1/2 mile, share\n",
       "lahunvhalf                Vehicle access, housing units without and low access at 1/2 mile, number\n",
       "lahunvhalfshare            Vehicle access, housing units without and low access at 1/2 mile, share\n",
       "lapop1                                                        Low access, people at 1 mile, number\n",
       "lapop1share                                                    Low access, people at 1 mile, share\n",
       "lalowi1                                            Low access, low-income people at 1 mile, number\n",
       "lalowi1share                                        Low access, low-income people at 1 mile, share\n",
       "lakids1                                            Low access, children age 0-17 at 1 mile, number\n",
       "lakids1share                                        Low access, children age 0-17 at 1 mile, share\n",
       "laseniors1                                           Low access, seniors age 65+ at 1 mile, number\n",
       "laseniors1share                                       Low access, seniors age 65+ at 1 mile, share\n",
       "lahunv1                     Vehicle access, housing units without and low access at 1 mile, number\n",
       "lahunv1share                 Vehicle access, housing units without and low access at 1 mile, share\n",
       "lapop10                                                     Low access, people at 10 miles, number\n",
       "lapop10share                                                 Low access, people at 10 miles, share\n",
       "lalowi10                                         Low access, low-income people at 10 miles, number\n",
       "lalowi10share                                     Low access, low-income people at 10 miles, share\n",
       "lakids10                                         Low access, children age 0-17 at 10 miles, number\n",
       "lakids10share                                     Low access, children age 0-17 at 10 miles, share\n",
       "laseniors10                                        Low access, seniors age 65+ at 10 miles, number\n",
       "laseniors10share                                    Low access, seniors age 65+ at 10 miles, share\n",
       "lahunv10                  Vehicle access, housing units without and low access at 10 miles, number\n",
       "lahunv10share       Vehicle access, percentage of housing units without and low access at 10 miles"
      ]
     },
     "execution_count": 54,
     "metadata": {},
     "output_type": "execute_result"
    }
   ],
   "source": [
    "# variables with all values not equal to zero (to be kept)\n",
    "print('These variables are not all zeros:\\n')\n",
    "pd.set_option('display.max_colwidth', 200)\n",
    "fara_variables.loc[vars_numeric]\n"
   ]
  },
  {
   "cell_type": "code",
   "execution_count": 40,
   "metadata": {
    "code_folding": [],
    "slideshow": {
     "slide_type": "slide"
    }
   },
   "outputs": [
    {
     "name": "stdout",
     "output_type": "stream",
     "text": [
      "These variables are all zeros:\n",
      "\n"
     ]
    },
    {
     "data": {
      "text/html": [
       "<div>\n",
       "<style scoped>\n",
       "    .dataframe tbody tr th:only-of-type {\n",
       "        vertical-align: middle;\n",
       "    }\n",
       "\n",
       "    .dataframe tbody tr th {\n",
       "        vertical-align: top;\n",
       "    }\n",
       "\n",
       "    .dataframe thead th {\n",
       "        text-align: right;\n",
       "    }\n",
       "</style>\n",
       "<table border=\"1\" class=\"dataframe\">\n",
       "  <thead>\n",
       "    <tr style=\"text-align: right;\">\n",
       "      <th></th>\n",
       "      <th>LongName</th>\n",
       "    </tr>\n",
       "    <tr>\n",
       "      <th>Field</th>\n",
       "      <th></th>\n",
       "    </tr>\n",
       "  </thead>\n",
       "  <tbody>\n",
       "    <tr>\n",
       "      <th>lapop20</th>\n",
       "      <td>Low access, people at 20 miles, number</td>\n",
       "    </tr>\n",
       "    <tr>\n",
       "      <th>lapop20share</th>\n",
       "      <td>Low access, people at 20 miles, share</td>\n",
       "    </tr>\n",
       "    <tr>\n",
       "      <th>lalowi20</th>\n",
       "      <td>Low access, low-income people at 20 miles, number</td>\n",
       "    </tr>\n",
       "    <tr>\n",
       "      <th>lalowi20share</th>\n",
       "      <td>Low access, low-income people at 20 miles, share</td>\n",
       "    </tr>\n",
       "    <tr>\n",
       "      <th>lakids20</th>\n",
       "      <td>Low access, children age 0-17 at 20 miles, number</td>\n",
       "    </tr>\n",
       "    <tr>\n",
       "      <th>lakids20share</th>\n",
       "      <td>Low access, children age 0-17 at 20 miles, share</td>\n",
       "    </tr>\n",
       "    <tr>\n",
       "      <th>laseniors20</th>\n",
       "      <td>Low access, seniors age 65+ at 20 miles, number</td>\n",
       "    </tr>\n",
       "    <tr>\n",
       "      <th>laseniors20share</th>\n",
       "      <td>Low access, seniors age 65+ at 20 miles, share</td>\n",
       "    </tr>\n",
       "    <tr>\n",
       "      <th>lahunv20</th>\n",
       "      <td>Vehicle access, housing units without and low ...</td>\n",
       "    </tr>\n",
       "    <tr>\n",
       "      <th>lahunv20share</th>\n",
       "      <td>Vehicle access, housing units without and low ...</td>\n",
       "    </tr>\n",
       "  </tbody>\n",
       "</table>\n",
       "</div>"
      ],
      "text/plain": [
       "                                                           LongName\n",
       "Field                                                              \n",
       "lapop20                      Low access, people at 20 miles, number\n",
       "lapop20share                  Low access, people at 20 miles, share\n",
       "lalowi20          Low access, low-income people at 20 miles, number\n",
       "lalowi20share      Low access, low-income people at 20 miles, share\n",
       "lakids20          Low access, children age 0-17 at 20 miles, number\n",
       "lakids20share      Low access, children age 0-17 at 20 miles, share\n",
       "laseniors20         Low access, seniors age 65+ at 20 miles, number\n",
       "laseniors20share     Low access, seniors age 65+ at 20 miles, share\n",
       "lahunv20          Vehicle access, housing units without and low ...\n",
       "lahunv20share     Vehicle access, housing units without and low ..."
      ]
     },
     "execution_count": 40,
     "metadata": {},
     "output_type": "execute_result"
    }
   ],
   "source": [
    "# variables with all values equal to zero (to be dropped)\n",
    "print('These variables are all zeros:\\n')\n",
    "fara_variables.loc[vars_numeric_zero]\n"
   ]
  },
  {
   "cell_type": "markdown",
   "metadata": {
    "slideshow": {
     "slide_type": "slide"
    }
   },
   "source": [
    "## Scaled Numeric Variables\n",
    "<a id='Scaled_Numeric_Variables'></a>\n",
    "\n",
    "\n",
    "[Table of Contents](#Table_of_Contents)"
   ]
  },
  {
   "cell_type": "code",
   "execution_count": 16,
   "metadata": {
    "slideshow": {
     "slide_type": "skip"
    }
   },
   "outputs": [],
   "source": [
    "from sklearn.preprocessing import RobustScaler\n",
    "vars_scaled_df = pd.DataFrame(RobustScaler(\n",
    "                                  quantile_range=(25, 75)).fit_transform(fara_tn_df[list(vars_numeric)]),\n",
    "                              columns=list(vars_numeric))\n"
   ]
  },
  {
   "cell_type": "code",
   "execution_count": 21,
   "metadata": {
    "code_folding": [],
    "slideshow": {
     "slide_type": "slide"
    }
   },
   "outputs": [
    {
     "name": "stdout",
     "output_type": "stream",
     "text": [
      "after scaling non-zero variables\n",
      "          NUMGQTRS     PCTGQTRS    lapophalf  lapophalfshare   lalowihalf\n",
      "count  1489.000000  1489.000000  1497.000000     1497.000000  1497.000000\n",
      "mean      1.538366     1.824113     0.084963       -0.355968     0.099666\n",
      "std       5.397913     6.774726     0.787140        0.866007     0.727839\n",
      "min       0.000000     0.000000    -1.447996       -3.771974    -1.097508\n",
      "25%       0.000000     0.000000    -0.456967       -0.706597    -0.442733\n",
      "50%       0.000000     0.000000     0.000000        0.000000     0.000000\n",
      "75%       1.000000     1.000000     0.543033        0.293403     0.557267\n",
      "max      67.507463    64.942234     6.774907        0.293404     3.860264 \n",
      "\n",
      "       lalowihalfshare   lakidshalf  lakidshalfshare  laseniorshalf  \\\n",
      "count      1497.000000  1497.000000      1497.000000    1497.000000   \n",
      "mean          0.029882     0.128846        -0.370417       0.073332   \n",
      "std           0.723298     0.862866         0.902385       0.810851   \n",
      "min          -1.306991    -1.270936        -3.791412      -1.218211   \n",
      "25%          -0.502109    -0.454844        -0.710462      -0.489962   \n",
      "50%           0.000000     0.000000         0.000000       0.000000   \n",
      "75%           0.497891     0.545156         0.289538       0.510038   \n",
      "max           2.959609    10.267604         0.289538       9.643159   \n",
      "\n",
      "       laseniorshalfshare  \n",
      "count         1497.000000  \n",
      "mean            -0.364613  \n",
      "std              0.887861  \n",
      "min             -3.592146  \n",
      "25%             -0.699245  \n",
      "50%              0.000000  \n",
      "75%              0.300755  \n",
      "max              0.300755   \n",
      "\n",
      "        lahunvhalf  lahunvhalfshare       lapop1  lapop1share      lalowi1\n",
      "count  1497.000000      1497.000000  1497.000000  1497.000000  1497.000000\n",
      "mean      0.286048         0.410512     0.057883    -0.105445     0.124516\n",
      "std       1.123461         1.415732     0.663277     0.488604     0.653253\n",
      "min      -0.719505        -0.678275    -0.774185    -0.859317    -0.606604\n",
      "25%      -0.398777        -0.373986    -0.522818    -0.583970    -0.455978\n",
      "50%       0.000000         0.000000     0.000000     0.000000     0.000000\n",
      "75%       0.601223         0.626014     0.477182     0.416030     0.544022\n",
      "max      13.250633        14.774321     3.070078     0.436057     2.803186 \n",
      "\n",
      "       lalowi1share      lakids1  lakids1share   laseniors1  laseniors1share\n",
      "count   1497.000000  1497.000000   1497.000000  1497.000000      1497.000000\n",
      "mean       0.097774     0.093386     -0.095536     0.098662        -0.086437\n",
      "std        0.610983     0.709860      0.486361     0.689095         0.481737\n",
      "min       -0.621393    -0.718089     -0.839841    -0.673256        -0.806472\n",
      "25%       -0.463414    -0.519427     -0.576900    -0.484279        -0.561537\n",
      "50%        0.000000     0.000000      0.000000     0.000000         0.000000\n",
      "75%        0.536586     0.480573      0.423100     0.515721         0.438463\n",
      "max        2.891286     5.027503      0.444557     7.705694         0.460107 \n",
      "\n",
      "           lahunv1  lahunv1share      lapop10  lapop10share     lalowi10\n",
      "count  1497.000000   1497.000000  1497.000000   1497.000000  1497.000000\n",
      "mean      0.286435      0.354980    55.610064      0.017853    23.894294\n",
      "std       0.990520      1.255769   267.434291      0.086594   114.370944\n",
      "min      -0.435475     -0.436788     0.000000      0.000000     0.000000\n",
      "25%      -0.377287     -0.378074     0.000000      0.000000     0.000000\n",
      "50%       0.000000      0.000000     0.000000      0.000000     0.000000\n",
      "75%       0.622713      0.621926     0.000000      0.000000     0.000000\n",
      "max      12.085035     20.481011  3392.764132      1.000000  1213.174016 \n",
      "\n",
      "       lalowi10share     lakids10  lakids10share  laseniors10  \\\n",
      "count    1497.000000  1497.000000    1497.000000  1497.000000   \n",
      "mean        0.008177    11.703027       0.017268     8.742061   \n",
      "std         0.045122    56.927474       0.084790    41.533455   \n",
      "min         0.000000     0.000000       0.000000     0.000000   \n",
      "25%         0.000000     0.000000       0.000000     0.000000   \n",
      "50%         0.000000     0.000000       0.000000     0.000000   \n",
      "75%         0.000000     0.000000       0.000000     0.000000   \n",
      "max         1.000000   831.751177       1.000000   571.393195   \n",
      "\n",
      "       laseniors10share  \n",
      "count       1497.000000  \n",
      "mean           0.017036  \n",
      "std            0.080037  \n",
      "min            0.000000  \n",
      "25%            0.000000  \n",
      "50%            0.000000  \n",
      "75%            0.000000  \n",
      "max            0.814655   \n",
      "\n",
      "          lahunv10\n",
      "count  1497.000000\n",
      "mean      1.074398\n",
      "std       6.626034\n",
      "min       0.000000\n",
      "25%       0.000000\n",
      "50%       0.000000\n",
      "75%       0.000000\n",
      "max     118.963768 \n",
      "\n",
      "32 0\n"
     ]
    }
   ],
   "source": [
    "# scaled numeric variabiles (count, mean, std, min, max, 25% quadrants)\n",
    "print(\"after scaling non-zero variables\")\n",
    "vars_numeric, vars_numeric_zero = print_describe(vars_scaled_df, 5)\n"
   ]
  },
  {
   "cell_type": "markdown",
   "metadata": {
    "slideshow": {
     "slide_type": "slide"
    }
   },
   "source": [
    "## Correlations In Numeric Variables\n",
    "<a id='Correlations_In_Numeric_Variables'></a>\n",
    "\n",
    "\n",
    "[Table of Contents](#Table_of_Contents)"
   ]
  },
  {
   "cell_type": "code",
   "execution_count": 22,
   "metadata": {
    "code_folding": [
     0
    ],
    "slideshow": {
     "slide_type": "slide"
    }
   },
   "outputs": [
    {
     "name": "stdout",
     "output_type": "stream",
     "text": [
      "NO CORRELATIONS ABOVE 50.00% FOUND!!!\n"
     ]
    }
   ],
   "source": [
    "# look for correlations\n",
    "\n",
    "vars_corr = vars_scaled_df.corr('pearson')\n",
    "\n",
    "limit = 0.5\n",
    "corr_count = 0\n",
    "for name in vars_corr.columns:\n",
    "    d = vars_corr[name][vars_corr.columns != name].describe()\n",
    "    if d['mean'] > limit:\n",
    "        corr_count += 1\n",
    "if corr_count > 0:\n",
    "    print('{:,d} found'.format(corr_count))\n",
    "else:\n",
    "    print('NO CORRELATIONS ABOVE {:.2%} FOUND!!!'.format(limit))\n",
    "    "
   ]
  },
  {
   "cell_type": "code",
   "execution_count": 23,
   "metadata": {
    "code_folding": [
     0
    ],
    "slideshow": {
     "slide_type": "slide"
    }
   },
   "outputs": [
    {
     "data": {
      "image/png": "[encoded data removed]",
      "text/plain": [
       "<Figure size 1152x720 with 2 Axes>"
      ]
     },
     "metadata": {},
     "output_type": "display_data"
    }
   ],
   "source": [
    "# correlation heatmap\n",
    "import seaborn as sns\n",
    "\n",
    "sns.set(style=\"white\")\n",
    "\n",
    "# Generate a large random dataset\n",
    "d = vars_scaled_df\n",
    "\n",
    "# Compute the correlation matrix\n",
    "corr = d.corr()\n",
    "\n",
    "# Generate a mask for the upper triangle\n",
    "mask = np.zeros_like(corr, dtype=np.bool)\n",
    "mask[np.triu_indices_from(mask)] = True\n",
    "\n",
    "# Set up the matplotlib figure\n",
    "fig, ax = plt.subplots(figsize=(16,10))\n",
    "\n",
    "# Generate a custom diverging colormap\n",
    "cmap = sns.diverging_palette(220, 10, as_cmap=True)\n",
    "\n",
    "# Draw the heatmap with the mask and correct aspect ratio\n",
    "\n",
    "sns.heatmap(corr, mask=mask, cmap=cmap, vmax=.3, center=0,\n",
    "            square=True, linewidths=.5, cbar_kws={\"shrink\": .5},\n",
    "           ax=ax);\n"
   ]
  },
  {
   "cell_type": "markdown",
   "metadata": {
    "slideshow": {
     "slide_type": "slide"
    }
   },
   "source": [
    "## Violin Plot of Numeric Variables\n",
    "<a id='Violin_Plot_of_Numeric_Variables'></a>\n",
    "\n",
    "\n",
    "[Table of Contents](#Table_of_Contents)"
   ]
  },
  {
   "cell_type": "code",
   "execution_count": 45,
   "metadata": {
    "code_folding": [
     0
    ],
    "scrolled": false,
    "slideshow": {
     "slide_type": "slide"
    }
   },
   "outputs": [
    {
     "data": {
      "image/png": "[encoded data removed]",
      "text/plain": [
       "<Figure size 1296x360 with 1 Axes>"
      ]
     },
     "metadata": {},
     "output_type": "display_data"
    },
    {
     "data": {
      "image/png": "[encoded data removed]",
      "text/plain": [
       "<Figure size 1296x360 with 1 Axes>"
      ]
     },
     "metadata": {},
     "output_type": "display_data"
    },
    {
     "data": {
      "image/png": "[encoded data removed]",
      "text/plain": [
       "<Figure size 1296x360 with 1 Axes>"
      ]
     },
     "metadata": {},
     "output_type": "display_data"
    },
    {
     "data": {
      "image/png": "[encoded data removed]",
      "text/plain": [
       "<Figure size 1296x720 with 2 Axes>"
      ]
     },
     "metadata": {},
     "output_type": "display_data"
    }
   ],
   "source": [
    "# violin plot of all variables scaled\n",
    "sns.set(style=\"whitegrid\")\n",
    "stride = 10\n",
    "\n",
    "import seaborn as sns\n",
    "\n",
    "sns.set(style=\"whitegrid\")\n",
    "\n",
    "def plot_violins(df, vars_names, stride):\n",
    "\n",
    "    # Set up the matplotlib figure\n",
    "    num_vars = len(vars_names)\n",
    "    num_plots = num_vars // stride\n",
    "    if  num_vars % stride:\n",
    "        num_plots += 1\n",
    "    f, ax = plt.subplots(num_plots, 1, figsize=(18, 5 * num_plots))\n",
    "\n",
    "    # Draw a violinplot with a narrower bandwidth than the default\n",
    "    for ax_indx, start in enumerate(range(0, num_vars, stride)):\n",
    "        end = start + stride\n",
    "        if end >= num_vars:\n",
    "            df_plot = df[vars_names[start:]]\n",
    "        else:\n",
    "            df_plot = df[vars_names[start:end]]\n",
    "        if num_plots > 1:\n",
    "            ax_plot = ax[ax_indx]\n",
    "        else:\n",
    "            ax_plot = ax\n",
    "        sns.violinplot(ax=ax_plot, data=df_plot, palette=\"Set3\",\n",
    "                       bw=.2, cut=1, linewidth=1, scale='count')\n",
    "        \n",
    "    # Finalize the figure\n",
    "    #ax.set(ylim=(-.7, 1.05))\n",
    "    sns.despine(left=True, bottom=True)\n",
    "\n",
    "from collections import defaultdict\n",
    "vars_to_plot = defaultdict(list)\n",
    "vars_so_far = set()\n",
    "\n",
    "for scale in (1000., 100., 10., 0.):\n",
    "    new_cols = set([col for col in vars_scaled_df.columns[vars_scaled_df.max() > scale] if col not in vars_so_far])\n",
    "    vars_to_plot[scale] = new_cols\n",
    "    vars_so_far = vars_so_far.union(new_cols)\n",
    "\n",
    "    plot_violins(vars_scaled_df, list(new_cols), stride)\n",
    "\n"
   ]
  },
  {
   "cell_type": "code",
   "execution_count": null,
   "metadata": {},
   "outputs": [],
   "source": []
  }
 ],
 "metadata": {
  "celltoolbar": "Slideshow",
  "kernelspec": {
   "display_name": "Python 3",
   "language": "python",
   "name": "python3"
  },
  "language_info": {
   "codemirror_mode": {
    "name": "ipython",
    "version": 3
   },
   "file_extension": ".py",
   "mimetype": "text/x-python",
   "name": "python",
   "nbconvert_exporter": "python",
   "pygments_lexer": "ipython3",
   "version": "3.7.3"
  },
  "varInspector": {
   "cols": {
    "lenName": 16,
    "lenType": 16,
    "lenVar": 40
   },
   "kernels_config": {
    "python": {
     "delete_cmd_postfix": "",
     "delete_cmd_prefix": "del ",
     "library": "var_list.py",
     "varRefreshCmd": "print(var_dic_list())"
    },
    "r": {
     "delete_cmd_postfix": ") ",
     "delete_cmd_prefix": "rm(",
     "library": "var_list.r",
     "varRefreshCmd": "cat(var_dic_list()) "
    }
   },
   "types_to_exclude": [
    "module",
    "function",
    "builtin_function_or_method",
    "instance",
    "_Feature"
   ],
   "window_display": false
  }
 },
 "nbformat": 4,
 "nbformat_minor": 1
}
